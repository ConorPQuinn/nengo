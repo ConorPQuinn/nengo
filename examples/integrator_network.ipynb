{
 "metadata": {
  "name": ""
 },
 "nbformat": 3,
 "nbformat_minor": 0,
 "worksheets": [
  {
   "cells": [
    {
     "cell_type": "markdown",
     "metadata": {},
     "source": [
      "# Nengo Example: Integrator\n",
      "\n",
      "This demo implements a one-dimensional neural integrator.\n",
      "\n",
      "This is the first example of a recurrent network in the demos. It shows how neurons can be used to implement stable dynamics. Such dynamics are important for memory, noise cleanup, statistical inference, and many other dynamic transformations.\n",
      "\n",
      "When you run this demo, it will automatically put in some step functions on the input, so you can see that the output is integrating (i.e. summing over time) the input. You can also input your own values. Note that since the integrator constantly sums its input, it will saturate quickly if you leave the input non-zero. This makes it  clear that neurons have a finite range of representation. Such saturation effects can be exploited to perform useful computations (e.g. soft normalization)."
     ]
    },
    {
     "cell_type": "code",
     "collapsed": false,
     "input": [
      "import matplotlib.pyplot as plt\n",
      "%matplotlib inline\n",
      "\n",
      "import nengo\n",
      "%load_ext nengo.ipynb"
     ],
     "language": "python",
     "metadata": {},
     "outputs": [
      {
       "output_type": "display_data",
       "text": [
        "<IPython.core.display.Javascript at 0x7efe60222ba8>"
       ]
      }
     ],
     "prompt_number": 1
    },
    {
     "cell_type": "markdown",
     "metadata": {},
     "source": [
      "## Step 1: Create the neural populations \n",
      "\n",
      "Our model consists of one recurrently connected ensemble, and an input population."
     ]
    },
    {
     "cell_type": "code",
     "collapsed": false,
     "input": [
      "tau = 0.1\n",
      "\n",
      "integrator = nengo.networks.Integrator(tau, n_neurons=100, dimensions=1)"
     ],
     "language": "python",
     "metadata": {},
     "outputs": [],
     "prompt_number": 2
    },
    {
     "cell_type": "markdown",
     "metadata": {},
     "source": [
      "## Step 2: Create input for the model\n",
      "\n",
      "We will use a piecewise step function as input, so we can see the effects of recurrence."
     ]
    },
    {
     "cell_type": "code",
     "collapsed": false,
     "input": [
      "from nengo.processes import Piecewise\n",
      "\n",
      "# Create a piecewise step function for input\n",
      "with integrator:\n",
      "    input = nengo.Node(\n",
      "        Piecewise({\n",
      "            0: 0,\n",
      "            0.2: 1,\n",
      "            1: 0,\n",
      "            2: -2,\n",
      "            3: 0,\n",
      "            4: 1,\n",
      "            5: 0\n",
      "        }))"
     ],
     "language": "python",
     "metadata": {},
     "outputs": [],
     "prompt_number": 3
    },
    {
     "cell_type": "markdown",
     "metadata": {},
     "source": [
      "## Step 3: Connect the network elements"
     ]
    },
    {
     "cell_type": "code",
     "collapsed": false,
     "input": [
      "# Connect the input\n",
      "with integrator:\n",
      "    nengo.Connection(input, integrator.input, synapse=tau)"
     ],
     "language": "python",
     "metadata": {},
     "outputs": [],
     "prompt_number": 4
    },
    {
     "cell_type": "markdown",
     "metadata": {},
     "source": [
      "## Step 4: Probe outputs\n",
      "\n",
      "Anything that is probed will collect the data it produces over time, allowing us to analyze and visualize it later."
     ]
    },
    {
     "cell_type": "code",
     "collapsed": false,
     "input": [
      "with integrator:\n",
      "    input_probe = nengo.Probe(input)\n",
      "    integrator_probe = nengo.Probe(\n",
      "        integrator.ensemble, synapse=0.01)  # 10ms filter"
     ],
     "language": "python",
     "metadata": {},
     "outputs": [],
     "prompt_number": 5
    },
    {
     "cell_type": "markdown",
     "metadata": {},
     "source": [
      "## Step 5: Run the model"
     ]
    },
    {
     "cell_type": "code",
     "collapsed": false,
     "input": [
      "# Create our simulator\n",
      "with nengo.Simulator(integrator) as sim:\n",
      "    # Run it for 6 seconds\n",
      "    sim.run(6)"
     ],
     "language": "python",
     "metadata": {},
     "outputs": [],
     "prompt_number": 6
    },
    {
     "cell_type": "markdown",
     "metadata": {},
     "source": [
      "## Step 6: Plot the results"
     ]
    },
    {
     "cell_type": "code",
     "collapsed": false,
     "input": [
      "# Plot the decoded output of the ensemble\n",
      "plt.figure()\n",
      "plt.plot(sim.trange(), sim.data[integrator_probe], label=\"A output\")\n",
      "plt.plot(sim.trange(), sim.data[input_probe], 'k', label=\"Input\")\n",
      "plt.legend(loc=\"best\");"
     ],
     "language": "python",
     "metadata": {},
     "outputs": [
      {
       "output_type": "display_data",
       "png": "[encoded data removed]",
       "text": [
        "<matplotlib.figure.Figure at 0x7efe4e347c88>"
       ]
      }
     ],
     "prompt_number": 7
    },
    {
     "cell_type": "markdown",
     "metadata": {},
     "source": [
      "The graph shows the response to the input by the integrator.  Because it is implemented in neurons, it will not be perfect (i.e. there will be drift).  Running several times will give a sense of the kinds of drift you might expect.  Drift can be reduced by increasing the number of neurons."
     ]
    }
   ],
   "metadata": {}
  }
 ]
}